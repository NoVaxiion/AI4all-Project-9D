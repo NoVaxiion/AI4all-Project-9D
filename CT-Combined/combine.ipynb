{
 "cells": [
  {
   "cell_type": "markdown",
   "id": "00c2acd1",
   "metadata": {},
   "source": [
    "##### Just combining the final dataset"
   ]
  },
  {
   "cell_type": "code",
   "execution_count": 1,
   "id": "e8736f90",
   "metadata": {},
   "outputs": [],
   "source": [
    "import pandas as pd\n",
    "\n",
    "a = pd.read_csv(\"../CT-2022/2022_merged_data.csv\")\n",
    "b = pd.read_csv(\"../CT-2023/2023_merged_data.csv\")\n",
    "\n",
    "df = pd.concat([a, b], ignore_index=True)"
   ]
  },
  {
   "cell_type": "code",
   "execution_count": 7,
   "id": "b1c3b1e3",
   "metadata": {},
   "outputs": [],
   "source": [
    "test = df.isna().sum()\n",
    "for col, count in test.items():\n",
    "    if count != 0:\n",
    "        print(col, count)"
   ]
  },
  {
   "cell_type": "code",
   "execution_count": 8,
   "id": "97917468",
   "metadata": {},
   "outputs": [
    {
     "name": "stdout",
     "output_type": "stream",
     "text": [
      "<class 'pandas.core.frame.DataFrame'>\n",
      "RangeIndex: 35388 entries, 0 to 35387\n",
      "Data columns (total 17 columns):\n",
      " #   Column                          Non-Null Count  Dtype  \n",
      "---  ------                          --------------  -----  \n",
      " 0   year                            35388 non-null  int64  \n",
      " 1   agency_location                 35388 non-null  int64  \n",
      " 2   incident_date                   35388 non-null  object \n",
      " 3   incident_hour                   35388 non-null  int64  \n",
      " 4   agency_name                     35388 non-null  object \n",
      " 5   state                           35388 non-null  object \n",
      " 6   population                      35388 non-null  int64  \n",
      " 7   male_officer                    35388 non-null  float64\n",
      " 8   male_civilian                   35388 non-null  float64\n",
      " 9   male_officer+male_civilian      35388 non-null  float64\n",
      " 10  female_officer                  35388 non-null  float64\n",
      " 11  female_civilian                 35388 non-null  float64\n",
      " 12  female_officer+female_civilian  35388 non-null  float64\n",
      " 13  offense_name                    35388 non-null  object \n",
      " 14  offense_category_name           35388 non-null  object \n",
      " 15  criminal_act_name               35388 non-null  object \n",
      " 16  location_area                   35388 non-null  object \n",
      "dtypes: float64(6), int64(4), object(7)\n",
      "memory usage: 4.6+ MB\n"
     ]
    }
   ],
   "source": [
    "df.info()"
   ]
  },
  {
   "cell_type": "code",
   "execution_count": 2,
   "id": "25a31b08",
   "metadata": {},
   "outputs": [],
   "source": [
    "df.to_csv(\"combined_data.csv\", index=False)"
   ]
  },
  {
   "cell_type": "code",
   "execution_count": 6,
   "id": "fd51191c",
   "metadata": {},
   "outputs": [],
   "source": [
    "combined = pd.read_csv(\"combined_data.csv\")"
   ]
  },
  {
   "cell_type": "code",
   "execution_count": null,
   "id": "c02456f8",
   "metadata": {},
   "outputs": [
    {
     "name": "stdout",
     "output_type": "stream",
     "text": [
      "year\n",
      "agency_location\n",
      "incident_date\n",
      "incident_hour\n",
      "agency_name\n",
      "state\n",
      "population\n",
      "male_officer\n",
      "male_civilian\n",
      "male_officer+male_civilian\n",
      "female_officer\n",
      "female_civilian\n",
      "female_officer+female_civilian\n",
      "offense_name\n",
      "offense_category_name\n",
      "criminal_act_name\n",
      "location_area\n"
     ]
    }
   ],
   "source": [
    "rows = df['agency_name'].value_counts()\n",
    "\n",
    "for i, j in rows:\n",
    "    print(i)"
   ]
  },
  {
   "cell_type": "code",
   "execution_count": 15,
   "id": "5e4ceb99",
   "metadata": {},
   "outputs": [],
   "source": [
    "hartford_rows = df[df['agency_name'] == \"Mansfield\"]\n",
    "offense_counts = hartford_rows['offense_category_name'].value_counts()\n",
    "\n",
    "for name, count in offense_counts.items():\n",
    "    print(name, count)"
   ]
  }
 ],
 "metadata": {
  "kernelspec": {
   "display_name": "Python (nyc)",
   "language": "python",
   "name": "nyc"
  },
  "language_info": {
   "codemirror_mode": {
    "name": "ipython",
    "version": 3
   },
   "file_extension": ".py",
   "mimetype": "text/x-python",
   "name": "python",
   "nbconvert_exporter": "python",
   "pygments_lexer": "ipython3",
   "version": "3.11.11"
  }
 },
 "nbformat": 4,
 "nbformat_minor": 5
}
