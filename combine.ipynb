{
 "cells": [
  {
   "cell_type": "markdown",
   "id": "00c2acd1",
   "metadata": {},
   "source": [
    "##### Just combining the final dataset"
   ]
  },
  {
   "cell_type": "code",
   "execution_count": null,
   "id": "e8736f90",
   "metadata": {},
   "outputs": [],
   "source": [
    "import pandas as pd\n",
    "\n",
    "a = pd.read_csv(\"CT-2022/2022_merged_data.csv\")\n",
    "b = pd.read_csv(\"CT-2023/2023_merged_data.csv\")\n",
    "\n",
    "df = pd.concat([a, b], ignore_index=True)\n",
    "\n",
    "df.to_csv(\"combined_data.csv\", index=False)"
   ]
  }
 ],
 "metadata": {
  "language_info": {
   "name": "python"
  }
 },
 "nbformat": 4,
 "nbformat_minor": 5
}
